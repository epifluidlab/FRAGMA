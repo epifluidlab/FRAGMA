{
 "cells": [
  {
   "cell_type": "code",
   "execution_count": 28,
   "id": "0d70a2aa-5667-4184-95bb-eacb3dde7bf2",
   "metadata": {},
   "outputs": [],
   "source": [
    "import os\n",
    "import time\n",
    "import datetime\n",
    "import numpy as np\n",
    "import tensorflow as tf\n",
    "from IPython import display\n",
    "from tensorflow.keras.models import Sequential\n",
    "from tensorflow.keras.layers import Conv1D, BatchNormalization, Dropout, Flatten, Dense\n",
    "from tensorflow.keras.callbacks import TensorBoard\n",
    "import tensorflow as tf\n",
    "from sklearn.metrics import roc_curve, auc\n",
    "import matplotlib.pyplot as plt\n",
    "import os"
   ]
  },
  {
   "cell_type": "code",
   "execution_count": 29,
   "id": "5d9b39dc-66e4-44f6-875c-c3b835a835de",
   "metadata": {},
   "outputs": [],
   "source": [
    "PATH_TO_TRAIN = \"/jet/home/rbandaru/ocean_rbandaru/FRAGMA/TRAIN_DATA.txt\"\n",
    "PATH_TO_VAL = \"/jet/home/rbandaru/ocean_rbandaru/FRAGMA/VAL_DATA.txt\"\n",
    "PATH_TO_TEST = \"/jet/home/rbandaru/ocean_rbandaru/FRAGMA/TEST_DATA.txt\""
   ]
  },
  {
   "cell_type": "code",
   "execution_count": 30,
   "id": "13e6047d-db7c-4d45-9e3c-c435a0179f77",
   "metadata": {},
   "outputs": [],
   "source": [
    "def index_positive(element):\n",
    "    return tf.case([\n",
    "        (tf.strings.regex_full_match(element, 'A'), lambda: 0),\n",
    "        (tf.strings.regex_full_match(element, 'G'), lambda: 1),\n",
    "        (tf.strings.regex_full_match(element, 'C'), lambda: 2),\n",
    "        (tf.strings.regex_full_match(element, 'T'), lambda: 3)\n",
    "    ], default=lambda: -1)\n",
    "\n",
    "def index_negative(element):\n",
    "    return tf.case([\n",
    "        (tf.strings.regex_full_match(element, 'A'), lambda: 4),\n",
    "        (tf.strings.regex_full_match(element, 'G'), lambda: 5),\n",
    "        (tf.strings.regex_full_match(element, 'C'), lambda: 6),\n",
    "        (tf.strings.regex_full_match(element, 'T'), lambda: 7)\n",
    "    ], default=lambda: -1)"
   ]
  },
  {
   "cell_type": "code",
   "execution_count": 31,
   "id": "5ddef176-9ab9-4316-aa40-e94afa9e399d",
   "metadata": {},
   "outputs": [],
   "source": [
    "@tf.function(reduce_retracing=True)\n",
    "def process_bed_line(line):\n",
    "    parts = tf.strings.split([line], sep='\\t').values\n",
    "    positive_sequence = parts[4]\n",
    "    positive_sequence = tf.strings.bytes_split(positive_sequence)\n",
    "    negative_sequence = parts[5]\n",
    "    negative_sequence = tf.strings.bytes_split(negative_sequence)\n",
    "    pos_cleavage = tf.strings.to_number(tf.strings.split(tf.strings.strip(tf.strings.regex_replace(parts[6], r'\\[|\\]', '')), \",\"), out_type=tf.float32)\n",
    "    pos_fragments = tf.strings.to_number(parts[7], out_type=tf.float32)\n",
    "    neg_fragments = tf.strings.to_number(parts[9], out_type=tf.float32)\n",
    "    neg_cleavage = tf.strings.to_number(tf.strings.split(tf.strings.strip(tf.strings.regex_replace(parts[8], r'\\[|\\]', '')), \",\"), out_type=tf.float32)\n",
    "    methylation = tf.strings.to_number([parts[2]])\n",
    "    pos_cleavage/=pos_fragments\n",
    "    neg_cleavage/=neg_fragments\n",
    "    data_array = tf.zeros((8, 11), dtype=tf.float32)\n",
    "    positive_sequence = tf.map_fn(index_positive, positive_sequence, dtype=tf.int32)\n",
    "    negative_sequence = tf.map_fn(index_negative, negative_sequence, dtype=tf.int32)\n",
    "    pos_indices = tf.stack([positive_sequence, tf.range(11)], axis=1)\n",
    "    neg_indices = tf.stack([negative_sequence, tf.range(11)], axis=1)\n",
    "    data_array = tf.tensor_scatter_nd_add(data_array, pos_indices, pos_cleavage)\n",
    "    data_array = tf.tensor_scatter_nd_add(data_array, neg_indices, neg_cleavage)\n",
    "    label = tf.cast(tf.math.greater_equal(methylation, 70), dtype=tf.int32)\n",
    "    return data_array, label"
   ]
  },
  {
   "cell_type": "code",
   "execution_count": 32,
   "id": "84b5134f-059b-435b-aeae-f4de90bf5c54",
   "metadata": {},
   "outputs": [],
   "source": [
    "def create_dataset(file_path):\n",
    "    dataset = tf.data.TextLineDataset(file_path, num_parallel_reads=tf.data.experimental.AUTOTUNE)\n",
    "    dataset = dataset.map(lambda x: tf.py_function(func=process_bed_line, inp=[x], Tout=[tf.float32, tf.int32]), num_parallel_calls=tf.data.experimental.AUTOTUNE)\n",
    "    return dataset"
   ]
  },
  {
   "cell_type": "code",
   "execution_count": 33,
   "id": "7687138b-b288-409f-bf9b-ff7cca25b514",
   "metadata": {},
   "outputs": [
    {
     "name": "stdout",
     "output_type": "stream",
     "text": [
      "INFO:tensorflow:Using MirroredStrategy with devices ('/job:localhost/replica:0/task:0/device:GPU:0', '/job:localhost/replica:0/task:0/device:GPU:1', '/job:localhost/replica:0/task:0/device:GPU:2', '/job:localhost/replica:0/task:0/device:GPU:3', '/job:localhost/replica:0/task:0/device:GPU:4', '/job:localhost/replica:0/task:0/device:GPU:5', '/job:localhost/replica:0/task:0/device:GPU:6', '/job:localhost/replica:0/task:0/device:GPU:7')\n"
     ]
    }
   ],
   "source": [
    "strategy = tf.distribute.MirroredStrategy()\n",
    "N_GPU = 8\n",
    "BATCH_SIZE = 64\n",
    "GLOBAL_BATCH_SIZE = BATCH_SIZE * N_GPU\n",
    "EPOCHS = 10000"
   ]
  },
  {
   "cell_type": "code",
   "execution_count": 34,
   "id": "93a535e2-ab19-4e04-bf69-420f65186c19",
   "metadata": {},
   "outputs": [
    {
     "name": "stderr",
     "output_type": "stream",
     "text": [
      "[libprotobuf ERROR external/com_google_protobuf/src/google/protobuf/text_format.cc:337] Error parsing text-format tensorflow.data.experimental.DistributedSnapshotMetadata: 1:1: Invalid control characters encountered in text.\n",
      "[libprotobuf ERROR external/com_google_protobuf/src/google/protobuf/text_format.cc:337] Error parsing text-format tensorflow.data.experimental.DistributedSnapshotMetadata: 1:3: Expected identifier, got: 17639006057537976738\n"
     ]
    }
   ],
   "source": [
    "train_dataset = tf.data.experimental.load(\"./TRAIN_DATA\")"
   ]
  },
  {
   "cell_type": "code",
   "execution_count": 35,
   "id": "6a400f73-11f7-418c-91b4-82b94058d818",
   "metadata": {},
   "outputs": [
    {
     "name": "stderr",
     "output_type": "stream",
     "text": [
      "[libprotobuf ERROR external/com_google_protobuf/src/google/protobuf/text_format.cc:337] Error parsing text-format tensorflow.data.experimental.DistributedSnapshotMetadata: 1:1: Invalid control characters encountered in text.\n",
      "[libprotobuf ERROR external/com_google_protobuf/src/google/protobuf/text_format.cc:337] Error parsing text-format tensorflow.data.experimental.DistributedSnapshotMetadata: 1:3: Expected identifier, got: 17033867798427124946\n"
     ]
    }
   ],
   "source": [
    "val_dataset = tf.data.experimental.load(\"./VAL_DATA\")"
   ]
  },
  {
   "cell_type": "code",
   "execution_count": 36,
   "id": "2077067a-3964-4e97-b393-ec9c99479776",
   "metadata": {},
   "outputs": [],
   "source": [
    "#val_daata = create_dataset(PATH_TO_TEST)\n",
    "#tf.data.experimental.save(val_daata, \"./TEST_DATA\")"
   ]
  },
  {
   "cell_type": "code",
   "execution_count": 37,
   "id": "09497df0-98f9-4e49-b05d-fa73f83bdf61",
   "metadata": {},
   "outputs": [
    {
     "name": "stdout",
     "output_type": "stream",
     "text": [
      "Training set is 222839 long.\n",
      "Validation set is 47753 long.\n"
     ]
    },
    {
     "name": "stderr",
     "output_type": "stream",
     "text": [
      "2023-12-09 12:12:01.975665: W tensorflow/core/grappler/optimizers/data/auto_shard.cc:786] AUTO sharding policy will apply DATA sharding policy as it failed to apply FILE sharding policy because of the following reason: Did not find a shardable source, walked to a node which is not a dataset: name: \"LoadDataset/_1\"\n",
      "op: \"LoadDataset\"\n",
      "input: \"Const/_0\"\n",
      "attr {\n",
      "  key: \"Treader_func_args\"\n",
      "  value {\n",
      "    list {\n",
      "    }\n",
      "  }\n",
      "}\n",
      "attr {\n",
      "  key: \"_cardinality\"\n",
      "  value {\n",
      "    i: 222839\n",
      "  }\n",
      "}\n",
      "attr {\n",
      "  key: \"compression\"\n",
      "  value {\n",
      "    s: \"\"\n",
      "  }\n",
      "}\n",
      "attr {\n",
      "  key: \"output_shapes\"\n",
      "  value {\n",
      "    list {\n",
      "      shape {\n",
      "        unknown_rank: true\n",
      "      }\n",
      "      shape {\n",
      "        unknown_rank: true\n",
      "      }\n",
      "    }\n",
      "  }\n",
      "}\n",
      "attr {\n",
      "  key: \"output_types\"\n",
      "  value {\n",
      "    list {\n",
      "      type: DT_FLOAT\n",
      "      type: DT_INT32\n",
      "    }\n",
      "  }\n",
      "}\n",
      "attr {\n",
      "  key: \"reader_func\"\n",
      "  value {\n",
      "    func {\n",
      "      name: \"__inference_load_lambda_2004558\"\n",
      "    }\n",
      "  }\n",
      "}\n",
      "experimental_type {\n",
      "  type_id: TFT_PRODUCT\n",
      "  args {\n",
      "    type_id: TFT_DATASET\n",
      "    args {\n",
      "      type_id: TFT_PRODUCT\n",
      "      args {\n",
      "        type_id: TFT_TENSOR\n",
      "        args {\n",
      "          type_id: TFT_FLOAT\n",
      "        }\n",
      "      }\n",
      "      args {\n",
      "        type_id: TFT_TENSOR\n",
      "        args {\n",
      "          type_id: TFT_INT32\n",
      "        }\n",
      "      }\n",
      "    }\n",
      "  }\n",
      "}\n",
      ". Consider either turning off auto-sharding or switching the auto_shard_policy to DATA to shard this dataset. You can do this by creating a new `tf.data.Options()` object then setting `options.experimental_distribute.auto_shard_policy = AutoShardPolicy.DATA` before applying the options object to the dataset via `dataset.with_options(options)`.\n",
      "[libprotobuf ERROR external/com_google_protobuf/src/google/protobuf/text_format.cc:337] Error parsing text-format tensorflow.data.experimental.DistributedSnapshotMetadata: 1:1: Invalid control characters encountered in text.\n",
      "[libprotobuf ERROR external/com_google_protobuf/src/google/protobuf/text_format.cc:337] Error parsing text-format tensorflow.data.experimental.DistributedSnapshotMetadata: 1:3: Expected identifier, got: 17639006057537976738\n",
      "2023-12-09 12:12:01.987193: W tensorflow/core/grappler/optimizers/data/auto_shard.cc:786] AUTO sharding policy will apply DATA sharding policy as it failed to apply FILE sharding policy because of the following reason: Did not find a shardable source, walked to a node which is not a dataset: name: \"LoadDataset/_1\"\n",
      "op: \"LoadDataset\"\n",
      "input: \"Const/_0\"\n",
      "attr {\n",
      "  key: \"Treader_func_args\"\n",
      "  value {\n",
      "    list {\n",
      "    }\n",
      "  }\n",
      "}\n",
      "attr {\n",
      "  key: \"_cardinality\"\n",
      "  value {\n",
      "    i: 47753\n",
      "  }\n",
      "}\n",
      "attr {\n",
      "  key: \"compression\"\n",
      "  value {\n",
      "    s: \"\"\n",
      "  }\n",
      "}\n",
      "attr {\n",
      "  key: \"output_shapes\"\n",
      "  value {\n",
      "    list {\n",
      "      shape {\n",
      "        unknown_rank: true\n",
      "      }\n",
      "      shape {\n",
      "        unknown_rank: true\n",
      "      }\n",
      "    }\n",
      "  }\n",
      "}\n",
      "attr {\n",
      "  key: \"output_types\"\n",
      "  value {\n",
      "    list {\n",
      "      type: DT_FLOAT\n",
      "      type: DT_INT32\n",
      "    }\n",
      "  }\n",
      "}\n",
      "attr {\n",
      "  key: \"reader_func\"\n",
      "  value {\n",
      "    func {\n",
      "      name: \"__inference_load_lambda_2004574\"\n",
      "    }\n",
      "  }\n",
      "}\n",
      "experimental_type {\n",
      "  type_id: TFT_PRODUCT\n",
      "  args {\n",
      "    type_id: TFT_DATASET\n",
      "    args {\n",
      "      type_id: TFT_PRODUCT\n",
      "      args {\n",
      "        type_id: TFT_TENSOR\n",
      "        args {\n",
      "          type_id: TFT_FLOAT\n",
      "        }\n",
      "      }\n",
      "      args {\n",
      "        type_id: TFT_TENSOR\n",
      "        args {\n",
      "          type_id: TFT_INT32\n",
      "        }\n",
      "      }\n",
      "    }\n",
      "  }\n",
      "}\n",
      ". Consider either turning off auto-sharding or switching the auto_shard_policy to DATA to shard this dataset. You can do this by creating a new `tf.data.Options()` object then setting `options.experimental_distribute.auto_shard_policy = AutoShardPolicy.DATA` before applying the options object to the dataset via `dataset.with_options(options)`.\n",
      "[libprotobuf ERROR external/com_google_protobuf/src/google/protobuf/text_format.cc:337] Error parsing text-format tensorflow.data.experimental.DistributedSnapshotMetadata: 1:1: Invalid control characters encountered in text.\n",
      "[libprotobuf ERROR external/com_google_protobuf/src/google/protobuf/text_format.cc:337] Error parsing text-format tensorflow.data.experimental.DistributedSnapshotMetadata: 1:3: Expected identifier, got: 17033867798427124946\n"
     ]
    }
   ],
   "source": [
    "train_size = 222839\n",
    "val_size = 47753\n",
    "\n",
    "BUFFER_SIZE = train_size\n",
    "REPEAT_FACTOR = (EPOCHS*BUFFER_SIZE) // val_size\n",
    "print(\"Training set is \" + str(BUFFER_SIZE) + \" long.\")\n",
    "print(\"Validation set is \" + str(val_size) + \" long.\")\n",
    "\n",
    "train_dataset = train_dataset.shuffle(20).repeat(EPOCHS).batch(GLOBAL_BATCH_SIZE)\n",
    "val_dataset = val_dataset.shuffle(20).repeat(REPEAT_FACTOR).batch(GLOBAL_BATCH_SIZE)\n",
    "\n",
    "train_dataset =  train_dataset.prefetch(buffer_size=tf.data.AUTOTUNE)\n",
    "val_dataset =  val_dataset.prefetch(buffer_size=tf.data.AUTOTUNE)\n",
    "\n",
    "train_dataset = strategy.experimental_distribute_dataset(train_dataset)\n",
    "val_dataset = strategy.experimental_distribute_dataset(val_dataset)"
   ]
  },
  {
   "cell_type": "code",
   "execution_count": 38,
   "id": "62c78be9-4885-4f0f-b84c-fb3d361902fb",
   "metadata": {},
   "outputs": [],
   "source": [
    "def predictor():\n",
    "    inputs = tf.keras.layers.Input(shape=[8, 11, 1])\n",
    "    x = tf.keras.layers.Conv1D(filters=64, kernel_size=4, activation='relu')(inputs)\n",
    "    x = tf.keras.layers.Conv1D(filters=64, kernel_size=4, activation='relu')(x)\n",
    "    x = tf.keras.layers.BatchNormalization()(x)\n",
    "    x = tf.keras.layers.Dropout(0.5)(x)\n",
    "    x = tf.keras.layers.Flatten()(x)\n",
    "    x = tf.keras.layers.Dense(128, activation='relu')(x)\n",
    "    outputs = tf.keras.layers.Dense(1, activation='sigmoid')(x)\n",
    "    return tf.keras.Model(inputs=inputs, outputs=outputs)"
   ]
  },
  {
   "cell_type": "code",
   "execution_count": 39,
   "id": "7a1b6811-2514-4a56-8c60-c0f8a1b483ff",
   "metadata": {},
   "outputs": [
    {
     "name": "stdout",
     "output_type": "stream",
     "text": [
      "344961\n"
     ]
    },
    {
     "data": {
      "image/png": "[encoded data removed]",
      "text/plain": [
       "<IPython.core.display.Image object>"
      ]
     },
     "execution_count": 39,
     "metadata": {},
     "output_type": "execute_result"
    }
   ],
   "source": [
    "gen = predictor()\n",
    "print(gen.count_params())\n",
    "tf.keras.utils.plot_model(gen, show_shapes=True, dpi=64)"
   ]
  },
  {
   "cell_type": "code",
   "execution_count": 40,
   "id": "631da46a-3cff-42d0-9b64-54383957903f",
   "metadata": {},
   "outputs": [
    {
     "name": "stdout",
     "output_type": "stream",
     "text": [
      "INFO:tensorflow:Reduce to /job:localhost/replica:0/task:0/device:CPU:0 then broadcast to ('/job:localhost/replica:0/task:0/device:CPU:0',).\n",
      "INFO:tensorflow:Reduce to /job:localhost/replica:0/task:0/device:CPU:0 then broadcast to ('/job:localhost/replica:0/task:0/device:CPU:0',).\n"
     ]
    }
   ],
   "source": [
    "with strategy.scope():\n",
    "    model = predictor()\n",
    "    model_optimizer = tf.keras.optimizers.Adam()"
   ]
  },
  {
   "cell_type": "code",
   "execution_count": 41,
   "id": "8b4f6d11-4c24-4186-b62a-e058f1fdc9e4",
   "metadata": {},
   "outputs": [],
   "source": [
    "checkpoint_dir = './training_checkpoints'\n",
    "checkpoint_prefix = os.path.join(checkpoint_dir, \"TEST_6\")\n",
    "checkpoint = tf.train.Checkpoint(model_optimizer=model_optimizer, model=model)\n",
    "log_dir=\"logs/\"\n",
    "summary_writer = tf.summary.create_file_writer(log_dir + \"fit/\" + \"TEST_6\")"
   ]
  },
  {
   "cell_type": "code",
   "execution_count": 42,
   "id": "ebdb6d49-927b-41ba-a943-2070d882ce60",
   "metadata": {},
   "outputs": [],
   "source": [
    "def sigmoid_loss(logits, labels):\n",
    "    logits = tf.cast(logits, dtype=tf.float32)\n",
    "    labels = tf.cast(labels, dtype=tf.float32)\n",
    "    loss = tf.nn.sigmoid_cross_entropy_with_logits(logits=logits, labels=labels)\n",
    "    loss = tf.reduce_mean(loss)\n",
    "    return loss/N_GPU\n",
    "\n",
    "def val_sigmoid_loss(inputs, labels):\n",
    "    logits = model(inputs, training=True)\n",
    "    logits = tf.cast(logits, dtype=tf.float32)\n",
    "    labels = tf.cast(labels, dtype=tf.float32 )\n",
    "    loss = tf.nn.sigmoid_cross_entropy_with_logits(logits=logits, labels=labels)\n",
    "    loss = tf.reduce_mean(loss)\n",
    "    return loss/N_GPU\n",
    "\n",
    "def train_model_step(inputs, target):\n",
    "    with tf.GradientTape() as mod_tape:\n",
    "        outputs = model(inputs, training=True)\n",
    "        loss = sigmoid_loss(outputs, target)\n",
    "        \n",
    "    model_gradients=mod_tape.gradient(loss, model.trainable_variables)\n",
    "    model_optimizer.apply_gradients(zip(model_gradients, model.trainable_variables))\n",
    "    return loss\n",
    "\n",
    "@tf.function\n",
    "def distributed_mod_train_step(inputs, target, step, val_input, val_target):\n",
    "    loss = strategy.run(train_model_step, args=(inputs, target))\n",
    "    val_loss = strategy.run(val_sigmoid_loss, args=(val_input, val_target))\n",
    "    val_loss = strategy.reduce(tf.distribute.ReduceOp.SUM, val_loss, axis=None)\n",
    "    loss = strategy.reduce(tf.distribute.ReduceOp.SUM, loss, axis=None)\n",
    "    with summary_writer.as_default():\n",
    "        tf.summary.scalar('train_loss', loss, step=step)\n",
    "        tf.summary.scalar('val_loss', val_loss, step=step)"
   ]
  },
  {
   "cell_type": "code",
   "execution_count": 43,
   "id": "c308e74c-e7c3-4150-b1ae-86739b6682fb",
   "metadata": {},
   "outputs": [],
   "source": [
    "def fit(train_ds, val_ds, steps):\n",
    "    start = time.time()\n",
    "    global step\n",
    "    step = 0\n",
    "    for train_data, val_data in zip(train_ds,val_ds):\n",
    "        step += 1\n",
    "        inputs, target = train_data\n",
    "        val_input, val_target = val_data\n",
    "        if (step) % 1000 == 0:\n",
    "            display.clear_output(wait=True)\n",
    "            if step != 0:\n",
    "                print(f'Time taken for 1000 steps: {time.time()-start:.2f} sec\\n')\n",
    "            start = time.time()\n",
    "            print(\"Total Steps Needed: \" + str(steps))\n",
    "            print(f\"Step: {step//1000}k\")\n",
    "        step1 = tf.convert_to_tensor(step, dtype=tf.int64)\n",
    "        distributed_mod_train_step(inputs, target, step1, val_input, val_target)\n",
    "        \n",
    "        if (step+1) % 10 == 0:\n",
    "            print('.', end='', flush=True)\n",
    "        if (step+1) % (5000) == 0:\n",
    "            checkpoint.save(file_prefix=checkpoint_prefix)"
   ]
  },
  {
   "cell_type": "code",
   "execution_count": 44,
   "id": "8d025853-fc39-46c6-9301-3f203228666d",
   "metadata": {},
   "outputs": [],
   "source": [
    "tf.config.run_functions_eagerly(False)"
   ]
  },
  {
   "cell_type": "code",
   "execution_count": null,
   "id": "23a624f3-2ffa-4d13-8cb3-32a5a14158ed",
   "metadata": {},
   "outputs": [
    {
     "name": "stdout",
     "output_type": "stream",
     "text": [
      "Time taken for 1000 steps: 24.43 sec\n",
      "\n",
      "Total Steps Needed: 4350000\n",
      "Step: 14k\n",
      "."
     ]
    }
   ],
   "source": [
    "fit(train_dataset, val_dataset, steps=((BUFFER_SIZE//GLOBAL_BATCH_SIZE)*EPOCHS))"
   ]
  },
  {
   "cell_type": "code",
   "execution_count": 12,
   "id": "6aaf107d-ab85-4617-9e27-f028fa07e4a9",
   "metadata": {},
   "outputs": [
    {
     "name": "stderr",
     "output_type": "stream",
     "text": [
      "[libprotobuf ERROR external/com_google_protobuf/src/google/protobuf/text_format.cc:337] Error parsing text-format tensorflow.data.experimental.DistributedSnapshotMetadata: 1:1: Invalid control characters encountered in text.\n",
      "[libprotobuf ERROR external/com_google_protobuf/src/google/protobuf/text_format.cc:337] Error parsing text-format tensorflow.data.experimental.DistributedSnapshotMetadata: 1:3: Expected identifier, got: 14508198898388417025\n"
     ]
    }
   ],
   "source": [
    "test_dataset = tf.data.experimental.load(\"./TEST_DATA\")"
   ]
  },
  {
   "cell_type": "code",
   "execution_count": 24,
   "id": "55750e18-75b3-4278-b350-d70afb887bb9",
   "metadata": {},
   "outputs": [
    {
     "name": "stderr",
     "output_type": "stream",
     "text": [
      "[libprotobuf ERROR external/com_google_protobuf/src/google/protobuf/text_format.cc:337] Error parsing text-format tensorflow.data.experimental.DistributedSnapshotMetadata: 1:1: Invalid control characters encountered in text.\n",
      "[libprotobuf ERROR external/com_google_protobuf/src/google/protobuf/text_format.cc:337] Error parsing text-format tensorflow.data.experimental.DistributedSnapshotMetadata: 1:3: Expected identifier, got: 14508198898388417025\n"
     ]
    },
    {
     "data": {
      "text/plain": [
       "<tensorflow.python.checkpoint.checkpoint.CheckpointLoadStatus at 0x1549f10a7040>"
      ]
     },
     "execution_count": 24,
     "metadata": {},
     "output_type": "execute_result"
    }
   ],
   "source": [
    "test_dataset = tf.data.experimental.load(\"./TEST_DATA\").batch(64)\n",
    "\n",
    "model = predictor()\n",
    "checkpoint_dir = './training_checkpoints'\n",
    "checkpoint_prefix = os.path.join(checkpoint_dir, \"TEST_4\")\n",
    "checkpoint = tf.train.Checkpoint(model=model)\n",
    "checkpoint.restore(tf.train.latest_checkpoint(checkpoint_dir))"
   ]
  },
  {
   "cell_type": "code",
   "execution_count": 25,
   "id": "c504393d-34aa-4ffa-9dcc-f5d4e8f007a3",
   "metadata": {},
   "outputs": [
    {
     "name": "stderr",
     "output_type": "stream",
     "text": [
      "[libprotobuf ERROR external/com_google_protobuf/src/google/protobuf/text_format.cc:337] Error parsing text-format tensorflow.data.experimental.DistributedSnapshotMetadata: 1:1: Invalid control characters encountered in text.\n",
      "[libprotobuf ERROR external/com_google_protobuf/src/google/protobuf/text_format.cc:337] Error parsing text-format tensorflow.data.experimental.DistributedSnapshotMetadata: 1:3: Expected identifier, got: 14508198898388417025\n"
     ]
    },
    {
     "data": {
      "image/png": "[encoded data removed]",
      "text/plain": [
       "<Figure size 800x800 with 1 Axes>"
      ]
     },
     "metadata": {},
     "output_type": "display_data"
    }
   ],
   "source": [
    "def get_predictions_and_labels(model, dataset):\n",
    "    predictions = []\n",
    "    true_labels = []\n",
    "\n",
    "    for features, labels in dataset:\n",
    "        predictions.append(model(features, training=False).numpy())\n",
    "        true_labels.append(labels.numpy())\n",
    "\n",
    "    predictions = tf.concat(predictions, axis=0)\n",
    "    true_labels = tf.concat(true_labels, axis=0)\n",
    "\n",
    "    return predictions, true_labels\n",
    "\n",
    "predictions, true_labels = get_predictions_and_labels(model, test_dataset)\n",
    "\n",
    "fpr, tpr, _ = roc_curve(true_labels, predictions)\n",
    "roc_auc = auc(fpr, tpr)\n",
    "\n",
    "\n",
    "plt.figure(figsize=(8, 8))\n",
    "plt.plot(fpr, tpr, color='darkorange', lw=2, label=f'ROC curve (AUC = {roc_auc:.2f})')\n",
    "plt.plot([0, 1], [0, 1], color='navy', lw=2, linestyle='--')\n",
    "plt.xlabel('False Positive Rate')\n",
    "plt.ylabel('True Positive Rate')\n",
    "plt.title('Receiver Operating Characteristic (ROC) Curve')\n",
    "plt.legend(loc='lower right')\n",
    "plt.show()"
   ]
  },
  {
   "cell_type": "code",
   "execution_count": null,
   "id": "d1ad7ae1-966f-46d0-9d9d-f26ded352af1",
   "metadata": {},
   "outputs": [],
   "source": []
  }
 ],
 "metadata": {
  "kernelspec": {
   "display_name": "NGC TensorFlow",
   "language": "python",
   "name": "tensorflow"
  },
  "language_info": {
   "codemirror_mode": {
    "name": "ipython",
    "version": 3
   },
   "file_extension": ".py",
   "mimetype": "text/x-python",
   "name": "python",
   "nbconvert_exporter": "python",
   "pygments_lexer": "ipython3",
   "version": "3.10.12"
  }
 },
 "nbformat": 4,
 "nbformat_minor": 5
}
